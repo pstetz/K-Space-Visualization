{
 "cells": [
  {
   "cell_type": "code",
   "execution_count": 1,
   "metadata": {},
   "outputs": [
    {
     "data": {
      "text/html": [
       "<script>requirejs.config({paths: { 'plotly': ['https://cdn.plot.ly/plotly-latest.min']},});if(!window.Plotly) {{require(['plotly'],function(plotly) {window.Plotly=plotly;});}}</script>"
      ],
      "text/vnd.plotly.v1+html": [
       "<script>requirejs.config({paths: { 'plotly': ['https://cdn.plot.ly/plotly-latest.min']},});if(!window.Plotly) {{require(['plotly'],function(plotly) {window.Plotly=plotly;});}}</script>"
      ]
     },
     "metadata": {},
     "output_type": "display_data"
    }
   ],
   "source": [
    "import numpy as np\n",
    "import pandas as pd\n",
    "\n",
    "import matplotlib.pyplot as plt\n",
    "import seaborn as sns\n",
    "%matplotlib inline\n",
    "sns.set()\n",
    "\n",
    "### Plotly\n",
    "from plotly.offline import init_notebook_mode, iplot\n",
    "import plotly.graph_objs as go\n",
    "import plotly.figure_factory as ff\n",
    "import plotly.plotly as py\n",
    "from plotly import tools\n",
    "init_notebook_mode(connected=True)\n",
    "\n",
    "# Altair\n",
    "import altair as alt\n",
    "alt.renderers.enable(\"notebook\")\n",
    "\n",
    "### Removes warnings that occassionally show up\n",
    "import warnings\n",
    "warnings.filterwarnings(\"ignore\")"
   ]
  },
  {
   "cell_type": "code",
   "execution_count": 8,
   "metadata": {},
   "outputs": [
    {
     "name": "stdout",
     "output_type": "stream",
     "text": [
      "This is the format of your plot grid:\n",
      "[ (1,1) x1,y1 ]  [ (1,2) x2,y2 ]\n",
      "\n"
     ]
    },
    {
     "data": {
      "application/vnd.plotly.v1+json": {
       "data": [
        {
         "colorscale": [
          [
           0,
           "rgb(50, 235, 50)"
          ],
          [
           1,
           "rgb(50, 50, 235)"
          ]
         ],
         "showlegend": false,
         "showscale": false,
         "type": "heatmap",
         "xaxis": "x1",
         "yaxis": "y1",
         "z": [
          0.04499433700596345,
          0.1673589336465463,
          0.4464051813842774,
          0.41440569493188706,
          0.4894481716865384,
          0.13838506720122012,
          0.910264403300084,
          0.4972065282402257,
          0.6705228881294388,
          0.5459337578781607,
          0.4990291534947693,
          0.10983822959218237,
          0.15805820508297597,
          0.03162570093707362,
          0.5827458750643171,
          0.573588637774993,
          0.8653410462569668,
          0.7297953312579282,
          0.4196364142042124,
          0.6126373575310361,
          0.22572690610456514,
          0.26459991876396416,
          0.363840037776485,
          0.6438204744565882,
          0.4477043987946321,
          0.8305861205209826,
          0.9667833659083822,
          0.24219091173739016,
          0.4528506382009987,
          0.9651072883811069,
          0.5061482451823608,
          0.6295583599789875,
          0.11616786239824928,
          0.8216008361324671,
          0.7625414261967641,
          0.5666728015397221,
          0.8348607985758766,
          0.7707365922899138,
          0.253770190890916,
          0.5136270228158628,
          0.9047866639288047,
          0.3704233574076504,
          0.7514754806682018,
          0.20533037687869893,
          0.011533037678581382,
          0.024870618551141033,
          0.02115854243286075,
          0.28070911894580475,
          0.3409479184489278,
          0.5488169029670652
         ]
        },
        {
         "colorscale": [
          [
           0,
           "rgb(50, 235, 50)"
          ],
          [
           1,
           "rgb(50, 50, 235)"
          ]
         ],
         "showlegend": false,
         "showscale": false,
         "type": "heatmap",
         "xaxis": "x2",
         "yaxis": "y2",
         "z": [
          0.226657541595762,
          0.6037168909516332,
          0.2284009570337021,
          0.7604429924811174,
          0.14113720063287638,
          0.6073953180003167,
          0.6167456131630081,
          0.599701897956984,
          0.5674886759464788,
          0.09977098559864395,
          0.08697964136817049,
          0.2717249896067504,
          0.6221465703631988,
          0.5199528570335448,
          0.7726985330180594,
          0.4357815339557095,
          0.6181743888440547,
          0.22763923508337902,
          0.4203208105695294,
          0.701238832115236,
          0.2838386050529046,
          0.4885692050990088,
          0.00697603068827457,
          0.29886255426662933,
          0.8326457637047588,
          0.41709258416953654,
          0.6827985311083408,
          0.6415647838749711,
          0.49886938291155614,
          0.14235778233798402,
          0.2516239493700563,
          0.179472979754973,
          0.0864039274594095,
          0.9481261420940558,
          0.3886245502142952,
          0.20767778309094787,
          0.5802816526751231,
          0.17082543329000244,
          0.0913765204990229,
          0.7915796024238095,
          0.03831237882866945,
          0.06593941459280839,
          0.8386987259445137,
          0.5344523021507418,
          0.795651431687799,
          0.5460248471219769,
          0.3397539259865673,
          0.5477851722217613,
          0.14942467673796722,
          0.702845428861356
         ]
        }
       ],
       "layout": {
        "annotations": [
         {
          "font": {
           "size": 16
          },
          "showarrow": false,
          "text": "K Space",
          "x": 0.225,
          "xanchor": "center",
          "xref": "paper",
          "y": 1,
          "yanchor": "bottom",
          "yref": "paper"
         },
         {
          "font": {
           "size": 16
          },
          "showarrow": false,
          "text": "Picture Space",
          "x": 0.775,
          "xanchor": "center",
          "xref": "paper",
          "y": 1,
          "yanchor": "bottom",
          "yref": "paper"
         }
        ],
        "autosize": true,
        "xaxis1": {
         "anchor": "y1",
         "autorange": true,
         "domain": [
          0,
          0.45
         ],
         "showgrid": false,
         "showline": false,
         "showticklabels": false,
         "ticks": "",
         "zeroline": false
        },
        "xaxis2": {
         "anchor": "y2",
         "autorange": true,
         "domain": [
          0.55,
          1
         ],
         "showgrid": false,
         "showline": false,
         "showticklabels": false,
         "ticks": "",
         "zeroline": false
        },
        "yaxis1": {
         "anchor": "x1",
         "autorange": true,
         "domain": [
          0,
          1
         ],
         "showgrid": false,
         "showline": false,
         "showticklabels": false,
         "ticks": "",
         "zeroline": false
        },
        "yaxis2": {
         "anchor": "x2",
         "autorange": true,
         "domain": [
          0,
          1
         ],
         "showgrid": false,
         "showline": false,
         "showticklabels": false,
         "ticks": "",
         "zeroline": false
        }
       }
      },
      "text/html": [
       "<div id=\"27a1d065-374b-4c7e-8b4d-84409df31688\" style=\"height: 525px; width: 100%;\" class=\"plotly-graph-div\"></div><script type=\"text/javascript\">require([\"plotly\"], function(Plotly) { window.PLOTLYENV=window.PLOTLYENV || {};window.PLOTLYENV.BASE_URL=\"https://plot.ly\";Plotly.newPlot(\"27a1d065-374b-4c7e-8b4d-84409df31688\", [{\"type\": \"heatmap\", \"z\": [0.04499433700596345, 0.1673589336465463, 0.4464051813842774, 0.41440569493188706, 0.4894481716865384, 0.13838506720122012, 0.910264403300084, 0.4972065282402257, 0.6705228881294388, 0.5459337578781607, 0.4990291534947693, 0.10983822959218237, 0.15805820508297597, 0.03162570093707362, 0.5827458750643171, 0.573588637774993, 0.8653410462569668, 0.7297953312579282, 0.4196364142042124, 0.6126373575310361, 0.22572690610456514, 0.26459991876396416, 0.363840037776485, 0.6438204744565882, 0.4477043987946321, 0.8305861205209826, 0.9667833659083822, 0.24219091173739016, 0.4528506382009987, 0.9651072883811069, 0.5061482451823608, 0.6295583599789875, 0.11616786239824928, 0.8216008361324671, 0.7625414261967641, 0.5666728015397221, 0.8348607985758766, 0.7707365922899138, 0.253770190890916, 0.5136270228158628, 0.9047866639288047, 0.3704233574076504, 0.7514754806682018, 0.20533037687869893, 0.011533037678581382, 0.024870618551141033, 0.02115854243286075, 0.28070911894580475, 0.3409479184489278, 0.5488169029670652], \"colorscale\": [[0, \"rgb(50, 235, 50)\"], [1, \"rgb(50, 50, 235)\"]], \"showlegend\": false, \"showscale\": false, \"xaxis\": \"x1\", \"yaxis\": \"y1\"}, {\"type\": \"heatmap\", \"z\": [0.226657541595762, 0.6037168909516332, 0.2284009570337021, 0.7604429924811174, 0.14113720063287638, 0.6073953180003167, 0.6167456131630081, 0.599701897956984, 0.5674886759464788, 0.09977098559864395, 0.08697964136817049, 0.2717249896067504, 0.6221465703631988, 0.5199528570335448, 0.7726985330180594, 0.4357815339557095, 0.6181743888440547, 0.22763923508337902, 0.4203208105695294, 0.701238832115236, 0.2838386050529046, 0.4885692050990088, 0.00697603068827457, 0.29886255426662933, 0.8326457637047588, 0.41709258416953654, 0.6827985311083408, 0.6415647838749711, 0.49886938291155614, 0.14235778233798402, 0.2516239493700563, 0.179472979754973, 0.0864039274594095, 0.9481261420940558, 0.3886245502142952, 0.20767778309094787, 0.5802816526751231, 0.17082543329000244, 0.0913765204990229, 0.7915796024238095, 0.03831237882866945, 0.06593941459280839, 0.8386987259445137, 0.5344523021507418, 0.795651431687799, 0.5460248471219769, 0.3397539259865673, 0.5477851722217613, 0.14942467673796722, 0.702845428861356], \"colorscale\": [[0, \"rgb(50, 235, 50)\"], [1, \"rgb(50, 50, 235)\"]], \"showlegend\": false, \"showscale\": false, \"xaxis\": \"x2\", \"yaxis\": \"y2\"}], {\"xaxis1\": {\"domain\": [0.0, 0.45], \"anchor\": \"y1\", \"autorange\": true, \"ticks\": \"\", \"showgrid\": false, \"zeroline\": false, \"showline\": false, \"showticklabels\": false}, \"yaxis1\": {\"domain\": [0.0, 1.0], \"anchor\": \"x1\", \"autorange\": true, \"ticks\": \"\", \"showgrid\": false, \"zeroline\": false, \"showline\": false, \"showticklabels\": false}, \"xaxis2\": {\"domain\": [0.55, 1.0], \"anchor\": \"y2\", \"autorange\": true, \"ticks\": \"\", \"showgrid\": false, \"zeroline\": false, \"showline\": false, \"showticklabels\": false}, \"yaxis2\": {\"domain\": [0.0, 1.0], \"anchor\": \"x2\", \"autorange\": true, \"ticks\": \"\", \"showgrid\": false, \"zeroline\": false, \"showline\": false, \"showticklabels\": false}, \"annotations\": [{\"y\": 1.0, \"xref\": \"paper\", \"x\": 0.225, \"yref\": \"paper\", \"text\": \"K Space\", \"showarrow\": false, \"font\": {\"size\": 16}, \"xanchor\": \"center\", \"yanchor\": \"bottom\"}, {\"y\": 1.0, \"xref\": \"paper\", \"x\": 0.775, \"yref\": \"paper\", \"text\": \"Picture Space\", \"showarrow\": false, \"font\": {\"size\": 16}, \"xanchor\": \"center\", \"yanchor\": \"bottom\"}], \"autosize\": true}, {\"showLink\": true, \"linkText\": \"Export to plot.ly\"})});</script>"
      ],
      "text/vnd.plotly.v1+html": [
       "<div id=\"27a1d065-374b-4c7e-8b4d-84409df31688\" style=\"height: 525px; width: 100%;\" class=\"plotly-graph-div\"></div><script type=\"text/javascript\">require([\"plotly\"], function(Plotly) { window.PLOTLYENV=window.PLOTLYENV || {};window.PLOTLYENV.BASE_URL=\"https://plot.ly\";Plotly.newPlot(\"27a1d065-374b-4c7e-8b4d-84409df31688\", [{\"type\": \"heatmap\", \"z\": [0.04499433700596345, 0.1673589336465463, 0.4464051813842774, 0.41440569493188706, 0.4894481716865384, 0.13838506720122012, 0.910264403300084, 0.4972065282402257, 0.6705228881294388, 0.5459337578781607, 0.4990291534947693, 0.10983822959218237, 0.15805820508297597, 0.03162570093707362, 0.5827458750643171, 0.573588637774993, 0.8653410462569668, 0.7297953312579282, 0.4196364142042124, 0.6126373575310361, 0.22572690610456514, 0.26459991876396416, 0.363840037776485, 0.6438204744565882, 0.4477043987946321, 0.8305861205209826, 0.9667833659083822, 0.24219091173739016, 0.4528506382009987, 0.9651072883811069, 0.5061482451823608, 0.6295583599789875, 0.11616786239824928, 0.8216008361324671, 0.7625414261967641, 0.5666728015397221, 0.8348607985758766, 0.7707365922899138, 0.253770190890916, 0.5136270228158628, 0.9047866639288047, 0.3704233574076504, 0.7514754806682018, 0.20533037687869893, 0.011533037678581382, 0.024870618551141033, 0.02115854243286075, 0.28070911894580475, 0.3409479184489278, 0.5488169029670652], \"colorscale\": [[0, \"rgb(50, 235, 50)\"], [1, \"rgb(50, 50, 235)\"]], \"showlegend\": false, \"showscale\": false, \"xaxis\": \"x1\", \"yaxis\": \"y1\"}, {\"type\": \"heatmap\", \"z\": [0.226657541595762, 0.6037168909516332, 0.2284009570337021, 0.7604429924811174, 0.14113720063287638, 0.6073953180003167, 0.6167456131630081, 0.599701897956984, 0.5674886759464788, 0.09977098559864395, 0.08697964136817049, 0.2717249896067504, 0.6221465703631988, 0.5199528570335448, 0.7726985330180594, 0.4357815339557095, 0.6181743888440547, 0.22763923508337902, 0.4203208105695294, 0.701238832115236, 0.2838386050529046, 0.4885692050990088, 0.00697603068827457, 0.29886255426662933, 0.8326457637047588, 0.41709258416953654, 0.6827985311083408, 0.6415647838749711, 0.49886938291155614, 0.14235778233798402, 0.2516239493700563, 0.179472979754973, 0.0864039274594095, 0.9481261420940558, 0.3886245502142952, 0.20767778309094787, 0.5802816526751231, 0.17082543329000244, 0.0913765204990229, 0.7915796024238095, 0.03831237882866945, 0.06593941459280839, 0.8386987259445137, 0.5344523021507418, 0.795651431687799, 0.5460248471219769, 0.3397539259865673, 0.5477851722217613, 0.14942467673796722, 0.702845428861356], \"colorscale\": [[0, \"rgb(50, 235, 50)\"], [1, \"rgb(50, 50, 235)\"]], \"showlegend\": false, \"showscale\": false, \"xaxis\": \"x2\", \"yaxis\": \"y2\"}], {\"xaxis1\": {\"domain\": [0.0, 0.45], \"anchor\": \"y1\", \"autorange\": true, \"ticks\": \"\", \"showgrid\": false, \"zeroline\": false, \"showline\": false, \"showticklabels\": false}, \"yaxis1\": {\"domain\": [0.0, 1.0], \"anchor\": \"x1\", \"autorange\": true, \"ticks\": \"\", \"showgrid\": false, \"zeroline\": false, \"showline\": false, \"showticklabels\": false}, \"xaxis2\": {\"domain\": [0.55, 1.0], \"anchor\": \"y2\", \"autorange\": true, \"ticks\": \"\", \"showgrid\": false, \"zeroline\": false, \"showline\": false, \"showticklabels\": false}, \"yaxis2\": {\"domain\": [0.0, 1.0], \"anchor\": \"x2\", \"autorange\": true, \"ticks\": \"\", \"showgrid\": false, \"zeroline\": false, \"showline\": false, \"showticklabels\": false}, \"annotations\": [{\"y\": 1.0, \"xref\": \"paper\", \"x\": 0.225, \"yref\": \"paper\", \"text\": \"K Space\", \"showarrow\": false, \"font\": {\"size\": 16}, \"xanchor\": \"center\", \"yanchor\": \"bottom\"}, {\"y\": 1.0, \"xref\": \"paper\", \"x\": 0.775, \"yref\": \"paper\", \"text\": \"Picture Space\", \"showarrow\": false, \"font\": {\"size\": 16}, \"xanchor\": \"center\", \"yanchor\": \"bottom\"}], \"autosize\": true}, {\"showLink\": true, \"linkText\": \"Export to plot.ly\"})});</script>"
      ]
     },
     "metadata": {},
     "output_type": "display_data"
    }
   ],
   "source": [
    "size = (50, 50)\n",
    "\n",
    "data1 = np.random.uniform(0, 1, size=size)\n",
    "data2 = np.random.uniform(0, 1, size=size)\n",
    "\n",
    "systems = [data1, data2]\n",
    "\n",
    "fig = tools.make_subplots(rows=1, cols=2, subplot_titles=(\"K Space\", \"Picture Space\"))\n",
    "\n",
    "for i, system in enumerate(systems):\n",
    "    trace = go.Heatmap(z=system[i],\n",
    "                       colorscale=[[0, \"rgb(50, 235, 50)\"], [1, \"rgb(50, 50, 235)\"]],\n",
    "                       showlegend=False,\n",
    "                       showscale=False)\n",
    "    fig.append_trace(trace, 1, i+1)\n",
    "\n",
    "fig[\"layout\"][\"autosize\"] = True\n",
    "\n",
    "for axis in (\"xaxis1\", \"xaxis2\", \"yaxis1\", \"yaxis2\"):\n",
    "    fig.layout[axis][\"autorange\"] = True\n",
    "    fig.layout[axis][\"ticks\"] = ''\n",
    "    for trait in (\"showgrid\", \"zeroline\", \"showline\", \"showticklabels\"):\n",
    "        fig.layout[axis][trait] = False\n",
    "        \n",
    "iplot(fig);"
   ]
  },
  {
   "cell_type": "code",
   "execution_count": 23,
   "metadata": {
    "scrolled": true
   },
   "outputs": [
    {
     "data": {
      "text/plain": [
       "[<matplotlib.lines.Line2D at 0x1a1b2d7128>]"
      ]
     },
     "execution_count": 23,
     "metadata": {},
     "output_type": "execute_result"
    },
    {
     "data": {
      "image/png": "[encoded data removed]",
      "text/plain": [
       "<matplotlib.figure.Figure at 0x1a1b254518>"
      ]
     },
     "metadata": {},
     "output_type": "display_data"
    }
   ],
   "source": [
    "left, right = -100, 100\n",
    "down, up = -100, 100\n",
    "resolution = 100\n",
    "size = (50, 50)\n",
    "\n",
    "width = np.linspace(start = left, stop = right, num = resolution)\n",
    "height = np.linspace(start = down, stop = up, num = resolution)\n",
    "\n",
    "x = pd.DataFrame({\"x\": width, \"id\": 1})\n",
    "y = pd.DataFrame({\"y\": height, \"id\": 1})\n",
    "\n",
    "result = pd.merge(left = x, right = y, how = \"outer\", on = \"id\").drop(\"id\", axis=1)\n",
    "result[\"space\"] = 0\n",
    "\n",
    "### K Space encoding\n",
    "### (x, y, amplitude)\n",
    "data1 = [(1, 1, 1)]\n",
    "\n",
    "for wave in data1:\n",
    "    result[\"space\"] += wave[2] * np.sin(result[\"x\"] * wave[0])\n",
    "    result[\"space\"] += wave[2] * np.sin(result[\"y\"] * wave[1])\n",
    "\n",
    "pltx = result[\"x\"]\n",
    "plty = result[\"space\"]\n",
    "\n",
    "plt.plot(pltx, plty, \".\");"
   ]
  },
  {
   "cell_type": "code",
   "execution_count": 49,
   "metadata": {},
   "outputs": [
    {
     "data": {
      "image/png": "[encoded data removed]",
      "text/plain": [
       "<matplotlib.figure.Figure at 0x1a1a6c6710>"
      ]
     },
     "metadata": {},
     "output_type": "display_data"
    }
   ],
   "source": [
    "left, right = -100, 100\n",
    "down, up = -100, 100\n",
    "resolution = 100\n",
    "size = (100, 100)\n",
    "mid = 25\n",
    "\n",
    "result = np.zeros(shape = size)\n",
    "\n",
    "### K Space encoding\n",
    "### (x, y, amplitude)\n",
    "data1 = [(1, 0.1, 0.01)]\n",
    "\n",
    "for wave in data1:\n",
    "    for i in range(len(result)):\n",
    "        for j in range(len(result)):\n",
    "            result[i][j] += wave[2] * np.sin((i * wave[0]) + (j * wave[1]))\n",
    "#             result[i][j] += wave[2] * np.sin(j * wave[1])\n",
    "\n",
    "plt.figure(figsize=(8, 8))\n",
    "plt.matshow(result, cmap=\"winter\", fignum=1)\n",
    "plt.axis('off');"
   ]
  },
  {
   "cell_type": "code",
   "execution_count": 19,
   "metadata": {},
   "outputs": [
    {
     "data": {
      "text/plain": [
       "0       0.506366\n",
       "1       0.556715\n",
       "2      -0.990073\n",
       "3       0.303521\n",
       "4       0.726356\n",
       "5      -0.934623\n",
       "6       0.085701\n",
       "7       0.860160\n",
       "8      -0.833061\n",
       "9      -0.136347\n",
       "10      0.951527\n",
       "11     -0.690398\n",
       "12     -0.351668\n",
       "13      0.995948\n",
       "14     -0.513672\n",
       "15     -0.549638\n",
       "16      0.991231\n",
       "17     -0.311603\n",
       "18     -0.720491\n",
       "19      0.937610\n",
       "20     -0.094161\n",
       "21     -0.855797\n",
       "22      0.837730\n",
       "23      0.127927\n",
       "24     -0.948880\n",
       "25      0.696518\n",
       "26      0.343703\n",
       "27     -0.995148\n",
       "28      0.520942\n",
       "29      0.542522\n",
       "          ...   \n",
       "9970   -0.542522\n",
       "9971   -0.520942\n",
       "9972    0.995148\n",
       "9973   -0.343703\n",
       "9974   -0.696518\n",
       "9975    0.948880\n",
       "9976   -0.127927\n",
       "9977   -0.837730\n",
       "9978    0.855797\n",
       "9979    0.094161\n",
       "9980   -0.937610\n",
       "9981    0.720491\n",
       "9982    0.311603\n",
       "9983   -0.991231\n",
       "9984    0.549638\n",
       "9985    0.513672\n",
       "9986   -0.995948\n",
       "9987    0.351668\n",
       "9988    0.690398\n",
       "9989   -0.951527\n",
       "9990    0.136347\n",
       "9991    0.833061\n",
       "9992   -0.860160\n",
       "9993   -0.085701\n",
       "9994    0.934623\n",
       "9995   -0.726356\n",
       "9996   -0.303521\n",
       "9997    0.990073\n",
       "9998   -0.556715\n",
       "9999   -0.506366\n",
       "Name: space, Length: 10000, dtype: float64"
      ]
     },
     "execution_count": 19,
     "metadata": {},
     "output_type": "execute_result"
    }
   ],
   "source": [
    "# trace = go.Heatmap(\n",
    "#     x = result[\"x\"],\n",
    "#     y = result[\"y\"],\n",
    "#     z = result[\"space\"],\n",
    "# )\n",
    "\n",
    "# sns.heatmap(result,)\n",
    "result.space\n",
    "# fig = dict(data=[trace])\n",
    "# iplot(fig)"
   ]
  },
  {
   "cell_type": "code",
   "execution_count": null,
   "metadata": {
    "collapsed": true
   },
   "outputs": [],
   "source": []
  }
 ],
 "metadata": {
  "kernelspec": {
   "display_name": "Python 3",
   "language": "python",
   "name": "python3"
  },
  "language_info": {
   "codemirror_mode": {
    "name": "ipython",
    "version": 3
   },
   "file_extension": ".py",
   "mimetype": "text/x-python",
   "name": "python",
   "nbconvert_exporter": "python",
   "pygments_lexer": "ipython3",
   "version": "3.6.3"
  }
 },
 "nbformat": 4,
 "nbformat_minor": 2
}
